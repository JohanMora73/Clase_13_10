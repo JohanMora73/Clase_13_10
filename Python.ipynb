{
  "nbformat": 4,
  "nbformat_minor": 0,
  "metadata": {
    "colab": {
      "provenance": [],
      "toc_visible": true,
      "authorship_tag": "ABX9TyNHguUhwXxfaOKOYY3cHh20",
      "include_colab_link": true
    },
    "kernelspec": {
      "name": "python3",
      "display_name": "Python 3"
    },
    "language_info": {
      "name": "python"
    }
  },
  "cells": [
    {
      "cell_type": "markdown",
      "metadata": {
        "id": "view-in-github",
        "colab_type": "text"
      },
      "source": [
        "<a href=\"https://colab.research.google.com/github/JohanMora73/Clase_13_10/blob/master/Python.ipynb\" target=\"_parent\"><img src=\"https://colab.research.google.com/assets/colab-badge.svg\" alt=\"Open In Colab\"/></a>"
      ]
    },
    {
      "cell_type": "markdown",
      "source": [
        "#Introducción a Notebooks\n",
        "\n",
        "---\n",
        "- Ecuaciones en latex: Es necesario poner doble $ alinicio y a final\n",
        "\n",
        "$$\\int_0^5 x \\mathrm{d}x$$\n",
        "\n",
        "- Es posible ejecutar comandos de Unix al iniciar con !, por ejemplo !wget puede traer ficheros de inmternet\n",
        "\n",
        "- LoS Notebooks se eliminan luego de cierto tiempo de inactividad, por ello es necesario guardarlos en drive o github"
      ],
      "metadata": {
        "id": "9CpmunS31jH_"
      }
    },
    {
      "cell_type": "code",
      "source": [
        "!ls"
      ],
      "metadata": {
        "colab": {
          "base_uri": "https://localhost:8080/"
        },
        "id": "hdtfZEaV1iRW",
        "outputId": "3a61e5ef-2dfe-476a-a593-b832a5875c40"
      },
      "execution_count": 2,
      "outputs": [
        {
          "output_type": "stream",
          "name": "stdout",
          "text": [
            "sample_data\n"
          ]
        }
      ]
    },
    {
      "cell_type": "markdown",
      "source": [
        "#Variables y tios"
      ],
      "metadata": {
        "id": "cwDvjRlN6dtg"
      }
    },
    {
      "cell_type": "code",
      "source": [],
      "metadata": {
        "id": "-2gg04RZ6g9L"
      },
      "execution_count": null,
      "outputs": []
    }
  ]
}